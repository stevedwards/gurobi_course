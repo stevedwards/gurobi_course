{
 "cells": [
  {
   "cell_type": "code",
   "execution_count": 1,
   "id": "plastic-bermuda",
   "metadata": {},
   "outputs": [],
   "source": [
    "import gurobipy as gp\n",
    "from gurobipy import GRB"
   ]
  },
  {
   "cell_type": "markdown",
   "id": "impaired-liabilities",
   "metadata": {},
   "source": [
    "# Max-Flow Min-Cut\n",
    "\n"
   ]
  },
  {
   "cell_type": "markdown",
   "id": "extended-tournament",
   "metadata": {},
   "source": [
    "The maximum flow minimum cut problem holds a special place in the history of optimization theory. We will first model the problems as Linear Programs and use the results to discuss some somewhat surprising results.\n",
    "\n",
    "The problems consider a directed graph consisting of a set of nodes and a set of labeled arcs. The arc labels are non-negative values representing a notion of capacity for the arc. In the node set, there exists a source node $s$ and a terminal node $t$. The amount of flow into one of the intermediary nodes must equal the amount of flow out of the node, i.e., flow is conserved. \n",
    "\n",
    "The maximum flow question asks: what is the maximum flow that can be transferred from the source to the sink. The minimum cut question asks: which is the subset of arcs, that once removed would disconnect the source node from the terminal node, which has the minimum sum of capacities. For example, removing arcs $(C, t)$ and $(D, t)$ from the network below would mean there is no longer a path from $s$ to $t$ and the sum of the capacities of these arcs is $140 + 90 = 250$. It is reasonably straight forward to find a better cut, i.e., a subset of nodes with sum of capacities less than 250.\n",
    "\n",
    "A complete model is provided for the maximum flow problem, whereas the minimum cut problem is left as a challenge to the reader.\n",
    "\n",
    "<img src=\"images/network-flow.png\" alt=\"drawing\" width=\"400\"/>\n",
    "\n",
    "\n",
    "### Notation\n",
    "\n",
    "Let's represent the set of nodes and arcs as below\n",
    "\n",
    "|  index   |  Set   |  Description | \n",
    "|:---------|:--------|:--------------|\n",
    "| $i$ | $V$ | Set of nodes  |\n",
    "| $(i,j)$ |  $A$   | Set of arcs  |\n",
    "\n",
    "Additionally we can define the capacity of the arcs as follows\n",
    "\n",
    "|  Parameter |  Description | \n",
    "|:---------|:--------|\n",
    "| $c_{i,j}$ | Capacity of arc $(i,j) \\in A$  |"
   ]
  },
  {
   "cell_type": "code",
   "execution_count": 2,
   "id": "material-cotton",
   "metadata": {},
   "outputs": [],
   "source": [
    "# Programmatically we can define the problem data as \n",
    "nodes = ['s', 'A', 'B', 'C', 'D', 't']\n",
    "capacity = {\n",
    "    ('s', 'A'):   100,\n",
    "    ('s', 'B'):  150,\n",
    "    ('A', 'B'):  120,\n",
    "    ('A',  'C'):   90,\n",
    "    ('B',  'D'): 110,\n",
    "    ('C',  'D'):  120,\n",
    "    ('C', 't'): 140,\n",
    "    ('D', 't'): 90,\n",
    "    }\n",
    "arcs = capacity.keys()"
   ]
  },
  {
   "cell_type": "markdown",
   "id": "usual-vertex",
   "metadata": {},
   "source": [
    "## Maximum Flow\n",
    "\n",
    "First, let's consider the problem of calculating the maximum flow that can pass through the network.\n",
    "\n",
    "### Variables\n",
    "\n",
    "The variables we will use are as follows\n",
    "\n",
    "|  Variable | Type | Description | \n",
    "|:---------|:--------| :----- |\n",
    "| $f_{i,j}$ | Continuous | Flow along arc $(i,j) \\in A$  |\n",
    "\n",
    "### Model\n",
    "\n",
    "A model of the problem can then be defined as follows:\n",
    "\n",
    "$$\n",
    "\\begin{align}\n",
    "\\text{maximise} \\ & \\sum_{j \\in V: (s,j) \\in A} f_{s, j} && & \\quad (1a) \\label{model-obj}\\\\\n",
    "s.t. \\ & f_{i, j} \\leq c_{i,j} \\quad && \\forall (i, j) \\in A & \\quad (1b) \\label{m1-c1}\\\\\n",
    "& \\sum_{i \\in V: (i,j) \\in A} f_{i, j} - \\sum_{k \\in V: (j, k) \\in A} f_{j,k} = 0 \\quad  && \\forall j \\in V \\setminus \\{s, t\\} & \\quad (1c) \\label{m2-c2}\n",
    "\\end{align}\n",
    "$$\n",
    "\n",
    "The objective (1a) is to maximise the sum of flow leaving the source node $s$. Constraints (1b) ensure that the flow in each arc does not exceed the capacity of that arc. Constraints (1c) are continuity constraints, which ensure that the flow into each of the nodes, excluding the source and sink, is equal to the flow out of that node."
   ]
  },
  {
   "cell_type": "code",
   "execution_count": 3,
   "id": "remarkable-hindu",
   "metadata": {},
   "outputs": [],
   "source": [
    "# A function that takes a set of nodes, arcs, and capacities, creates a model and optimises can be defined as follows:\n",
    "def max_flow(nodes, arcs, capacity):\n",
    "\n",
    "    # Create optimization model\n",
    "    m = gp.Model('flow')\n",
    "\n",
    "    # Create variables\n",
    "    flow = m.addVars(arcs, obj=1, name=\"flow\")\n",
    "\n",
    "    # Objective\n",
    "    m.setObjective(gp.quicksum(var for (i, j), var in flow.items() if i == \"s\"), sense=-1)\n",
    "\n",
    "    # Arc-capacity constraints\n",
    "    m.addConstrs(\n",
    "        (flow.sum(i, j) <= capacity[i, j] for i, j in arcs), \"cap\")\n",
    "\n",
    "    # Flow-conservation constraints\n",
    "    m.addConstrs(\n",
    "        (flow.sum(j, '*') == flow.sum('*', j)\n",
    "            for j in nodes if j not in ('s', 't')), \"node\")\n",
    "\n",
    "    # Compute optimal solution\n",
    "    m.optimize()\n",
    "\n",
    "    # Print solution\n",
    "    if m.status == GRB.OPTIMAL:\n",
    "        solution = m.getAttr('x', flow)\n",
    "        print('\\nOptimal flows')\n",
    "        for i, j in arcs:\n",
    "            if solution[i, j] > 0:\n",
    "                print('%s -> %s: %g' % (i, j, solution[i, j]))"
   ]
  },
  {
   "cell_type": "code",
   "execution_count": 4,
   "id": "circular-bargain",
   "metadata": {},
   "outputs": [
    {
     "name": "stdout",
     "output_type": "stream",
     "text": [
      "Using license file /Library/gurobi/gurobi.lic\n",
      "Gurobi Optimizer version 9.1.1 build v9.1.1rc0 (mac64)\n",
      "Thread count: 4 physical cores, 8 logical processors, using up to 8 threads\n",
      "Optimize a model with 12 rows, 8 columns and 20 nonzeros\n",
      "Model fingerprint: 0xfa101f8c\n",
      "Coefficient statistics:\n",
      "  Matrix range     [1e+00, 1e+00]\n",
      "  Objective range  [1e+00, 1e+00]\n",
      "  Bounds range     [0e+00, 0e+00]\n",
      "  RHS range        [9e+01, 2e+02]\n",
      "Presolve removed 12 rows and 8 columns\n",
      "Presolve time: 0.01s\n",
      "Presolve: All rows and columns removed\n",
      "Iteration    Objective       Primal Inf.    Dual Inf.      Time\n",
      "       0    1.8000000e+02   0.000000e+00   0.000000e+00      0s\n",
      "\n",
      "Solved in 0 iterations and 0.01 seconds\n",
      "Optimal objective  1.800000000e+02\n",
      "\n",
      "Optimal flows\n",
      "s -> A: 90\n",
      "s -> B: 90\n",
      "A -> C: 90\n",
      "B -> D: 90\n",
      "C -> t: 90\n",
      "D -> t: 90\n"
     ]
    }
   ],
   "source": [
    "max_flow(nodes, arcs, capacity)"
   ]
  },
  {
   "cell_type": "markdown",
   "id": "skilled-solid",
   "metadata": {},
   "source": [
    "## Minimum Cut\n",
    "\n",
    "Next, let's consider the problem of determining the minimum cut.\n",
    "\n",
    "### Variables\n",
    "\n",
    "The variables used are as follows\n",
    "\n",
    "|  Parameter | Type | Description | \n",
    "|:---------|:--------| :----- |\n",
    "| $r_{i,j}$ | Continuous | 1 if arc $(i,j) \\in A$ is removed  |\n",
    "| $z_{i,j}$ | Continuous | 1 if $i \\in V \\setminus \\{s,t\\}$ is removed  |\n",
    "\n",
    "### Model\n",
    "\n",
    "A model of the problem can then be defined as follows:\n",
    "\n",
    "$$\n",
    "\\begin{alignat}3\n",
    "\\text{minimize} \\ & \\sum_{(i,j) \\in A} c_{i,j} \\cdot r_{i,j} && & (2a) \\\\\n",
    "s.t.\\ & r_{s,j} + z_j \\geq 1 \\quad && \\forall j \\in V : (s, j) \\in A & \\quad (2c)\\\\\n",
    "& r_{i,j} + z_j \\geq z_i \\quad && \\forall (i, j) \\in A: i \\neq s \\text{ and } j \\neq t & \\quad (2b) \\\\\n",
    "& r_{i,t} - z_i \\geq 0 \\quad && \\forall i \\in V : (i, t) \\in A & \\quad (2d)\n",
    "\\end{alignat}\n",
    "$$\n",
    "\n",
    "The objective (2a) is to minimise the sum of capacities of the arcs that are removed from the network. Constraints (2b) ensure that for all arcs leaving the source node, either the adjacent node $j$ is connected to the sink, i.e., $z_j = 1$, or the arc is removed, $r_{s, j} = 1$. Constraints (2c) ensure that, for each arc where both nodes are neither the source or the sink, that if predecessor is connected, $z_i = 1$, then either the successor is connected $z_j =1$ or the arc is removed $r_{i,j} = 1$. Finally constraints (2d) ensure that for any arc adjacent to the sink node, if the predecessor is connected, $z_i = 1$, then the arc must be removed, $r_{i,t}=1$. "
   ]
  },
  {
   "cell_type": "code",
   "execution_count": 7,
   "id": "accessory-grill",
   "metadata": {},
   "outputs": [],
   "source": [
    "def min_cut(nodes, arcs, capacity):\n",
    "\n",
    "    # Create optimization model\n",
    "    m = gp.Model('cut')\n",
    "    m.ModelSense = 1\n",
    "\n",
    "    # Create variables\n",
    "    remove = m.addVars(arcs, vtype=GRB.CONTINUOUS, obj=capacity, name=\"r_\")\n",
    "    connect = m.addVars((i for i in nodes if i not in (\"s\", \"t\")), name=\"z_\", vtype=GRB.CONTINUOUS)\n",
    "\n",
    "    # Arc-capacity constraints\n",
    "    for (i, j) in arcs:\n",
    "\n",
    "        if i == \"s\":\n",
    "            m.addConstr(remove[\"s\", j] + connect[j] >= 1)\n",
    "        \n",
    "        elif j == \"t\":\n",
    "            m.addConstr(remove[i, \"t\"] - connect[i] >= 0)\n",
    "        \n",
    "        else:\n",
    "            m.addConstr(remove[i, j] + connect[j] - connect[i] >= 0)\n",
    "\n",
    "    # Compute optimal solution\n",
    "    m.optimize()\n",
    "\n",
    "    # Print solution\n",
    "    if m.status == GRB.OPTIMAL:\n",
    "        solution = m.getAttr('x', remove)\n",
    "        print('\\nOptimal cuts')\n",
    "        for i, j in arcs:\n",
    "            if solution[i, j] > 0.5:\n",
    "                print('%s -> %s: %g' % (i, j, capacity[i, j]))"
   ]
  },
  {
   "cell_type": "code",
   "execution_count": 8,
   "id": "decent-learning",
   "metadata": {},
   "outputs": [
    {
     "name": "stdout",
     "output_type": "stream",
     "text": [
      "Gurobi Optimizer version 9.1.1 build v9.1.1rc0 (mac64)\n",
      "Thread count: 4 physical cores, 8 logical processors, using up to 8 threads\n",
      "Optimize a model with 8 rows, 12 columns and 20 nonzeros\n",
      "Model fingerprint: 0x28bf68bd\n",
      "Coefficient statistics:\n",
      "  Matrix range     [1e+00, 1e+00]\n",
      "  Objective range  [9e+01, 2e+02]\n",
      "  Bounds range     [0e+00, 0e+00]\n",
      "  RHS range        [1e+00, 1e+00]\n",
      "Presolve removed 6 rows and 9 columns\n",
      "Presolve time: 0.01s\n",
      "Presolved: 2 rows, 3 columns, 4 nonzeros\n",
      "\n",
      "Iteration    Objective       Primal Inf.    Dual Inf.      Time\n",
      "       0    9.0000000e+01   1.000000e+00   0.000000e+00      0s\n",
      "       1    1.8000000e+02   0.000000e+00   0.000000e+00      0s\n",
      "\n",
      "Solved in 1 iterations and 0.01 seconds\n",
      "Optimal objective  1.800000000e+02\n",
      "\n",
      "Optimal cuts\n",
      "A -> C: 90\n",
      "D -> t: 90\n"
     ]
    }
   ],
   "source": [
    "min_cut(nodes, arcs, capacity)"
   ]
  },
  {
   "cell_type": "markdown",
   "id": "announced-mobile",
   "metadata": {},
   "source": [
    "### Questions"
   ]
  },
  {
   "cell_type": "markdown",
   "id": "significant-stage",
   "metadata": {},
   "source": [
    "* How do the number of variables of one model compare with the number of constraints of the other?\n",
    "* How do the optimal solutions compare?\n",
    "* How do the objective values of feasible solutions to the max flow problem compare with those of the min cut problem?\n",
    "* Why are the $r$ and $c$ variables continuous when a cut is clearly a binary operation?"
   ]
  }
 ],
 "metadata": {
  "kernelspec": {
   "display_name": "Python 3",
   "language": "python",
   "name": "python3"
  },
  "language_info": {
   "codemirror_mode": {
    "name": "ipython",
    "version": 3
   },
   "file_extension": ".py",
   "mimetype": "text/x-python",
   "name": "python",
   "nbconvert_exporter": "python",
   "pygments_lexer": "ipython3",
   "version": "3.9.0"
  }
 },
 "nbformat": 4,
 "nbformat_minor": 5
}
