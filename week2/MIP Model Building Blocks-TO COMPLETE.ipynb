{
 "cells": [
  {
   "cell_type": "code",
   "execution_count": 2,
   "id": "internal-trout",
   "metadata": {},
   "outputs": [],
   "source": [
    "import gurobipy as gp\n",
    "from gurobipy import GRB, Model, Var"
   ]
  },
  {
   "cell_type": "markdown",
   "id": "iraqi-final",
   "metadata": {},
   "source": [
    "# Model Building Blocks\n",
    "\n",
    "This notebook explores techniques to linearise common mathematical expressions. The expressions start relatively simple however quickly become quite challenging. The term *to linearise* means to make linear, i.e., express using one or more linear constraints.\n",
    "\n",
    "Here we assume: \n",
    "\n",
    "* $a$, $b$, and $c$ are non-negative continuous variables \n",
    "* $x$, $y$, and $z$ are binary variables"
   ]
  },
  {
   "cell_type": "markdown",
   "id": "maritime-cigarette",
   "metadata": {},
   "source": [
    "Although it is not the focus of this notebook, we note that these expressions can be implemented in code. A model and variables can be defined as follows:"
   ]
  },
  {
   "cell_type": "code",
   "execution_count": 5,
   "id": "still-beast",
   "metadata": {},
   "outputs": [],
   "source": [
    "m = Model()\n",
    "a, b, c = (m.addVar(vtype=GRB.CONTINUOUS, name=i) for i in \"abc\")\n",
    "x, y, z = (m.addVar(vtype=GRB.BINARY, name=i) for i in \"xyz\") "
   ]
  },
  {
   "cell_type": "markdown",
   "id": "declared-picking",
   "metadata": {},
   "source": [
    "## Level 1 - No additional variables needed\n",
    "\n",
    "The following expressions can be reformulated naturally, i.e., without introducing additional variables. "
   ]
  },
  {
   "cell_type": "markdown",
   "id": "domestic-passing",
   "metadata": {},
   "source": [
    "#### 1a) Greater than or equal to the maximum of two variables\n",
    "\n",
    "$a \\geq \\max(b, c) \\iff$\n",
    "\n",
    "* $a \\geq b$\n",
    "* $a \\geq c$\n",
    "\n",
    "So here we have linearised the expression by representing it as two linear constraints"
   ]
  },
  {
   "cell_type": "code",
   "execution_count": 3,
   "id": "korean-christopher",
   "metadata": {},
   "outputs": [],
   "source": [
    "# This could be written as function as follows\n",
    "def greater_or_equal_max(m: Model, a: Var, b: Var, c: Var):\n",
    "    m.addConstr(a >= b)\n",
    "    m.addConstr(a >= c)"
   ]
  },
  {
   "cell_type": "markdown",
   "id": "bearing-billion",
   "metadata": {},
   "source": [
    "#### 1b) Less than or equal to the minimum of two variables\n",
    "\n",
    "$ a \\leq min(b, c) \\iff$\n",
    "\n",
    "TO COMPLETE"
   ]
  },
  {
   "cell_type": "markdown",
   "id": "artistic-current",
   "metadata": {},
   "source": [
    "#### 1c) Greater than or equal to the absolute value of two variables\n",
    "\n",
    "$a \\geq |b - c| \\iff$\n",
    "\n",
    "TO COMPLETE"
   ]
  },
  {
   "cell_type": "markdown",
   "id": "agreed-assembly",
   "metadata": {},
   "source": [
    "#### 1d) A binary variable is 1 if and only if either or both of two other binary variables are 1\n",
    "\n",
    "For example, \n",
    "\n",
    "* $y = z = 1 \\implies x = 1$\n",
    "* $y = 0, z = 1 \\implies x = 1$\n",
    "* $y = 1, z= 0 \\implies x = 1$\n",
    "* $y = 0, z = 0 \\implies x = 0$\n",
    "\n",
    "Here we express this using the `|` operator.\n",
    "\n",
    "$x = y\\ |\\ z \\iff $\n",
    "\n",
    "TO COMPLETE\n",
    "\n"
   ]
  },
  {
   "cell_type": "markdown",
   "id": "another-rendering",
   "metadata": {},
   "source": [
    "#### 1e) A binary variable is 1 if and only if both two other binary variables are 1\n",
    "\n",
    "For example, \n",
    "\n",
    "* $y = z = 1 \\implies x = 1$\n",
    "* $y = 0, z = 1 \\implies x = 0$\n",
    "* $y = 1, z= 0 \\implies x = 0$\n",
    "* $y = 0, z = 0 \\implies x = 0$\n",
    "\n",
    "Here we express this using the `&` operator.\n",
    "\n",
    "\n",
    "$x = y\\ \\&\\ z$\n",
    "\n",
    "TO COMPLETE\n",
    "\n"
   ]
  },
  {
   "cell_type": "markdown",
   "id": "rising-adventure",
   "metadata": {},
   "source": [
    "#### 1f) A binary variable equal to the product of two other binary variables\n",
    "\n",
    "$x = y \\times z$\n",
    "\n",
    "TO COMPLETE"
   ]
  },
  {
   "cell_type": "markdown",
   "id": "divine-messenger",
   "metadata": {},
   "source": [
    "## Level 2 - Big M Constraints\n",
    "\n",
    "Big-M constraints are a broad class of constraints that combine a binary variable, say $x$, with a sufficiently large parameter, say $M$. The integrality of the binary variable and the large parameter are used to turn on or turn off the constraint. As a rule of thumb, these constraints should be considered **weak** and avoided where possible. In some cases, these constraints cannot be avoided\n",
    "\n",
    "The following constraints will require the introduction of a large parameter $M$ and possibly additional variables. "
   ]
  },
  {
   "cell_type": "markdown",
   "id": "korean-affair",
   "metadata": {},
   "source": [
    "#### 2a) Less than or equal to the products of a binary and continuous variable\n",
    "\n",
    "$a \\leq b \\cdot y \\iff$\n",
    "\n",
    "* $a \\leq M \\cdot y$\n",
    "* $a \\leq b $\n",
    "\n",
    "Here $M = ub(b)$. \n",
    "\n",
    "Notice that when $y=1$ then $a \\leq M = ub(b)$ essentially turns the constraint off as this is implied by the remaining constraint \n",
    "\n",
    "#### 2b) Greater than or equal to the products of a binary and continuous variable\n",
    "\n",
    "$ x \\geq a \\cdot y \\iff$\n",
    "\n",
    "TO COMPLETE\n",
    "\n"
   ]
  },
  {
   "cell_type": "markdown",
   "id": "prerequisite-drill",
   "metadata": {},
   "source": [
    "#### 2c) Equal to the maximum of two variables\n",
    "\n",
    "$a = max(b, c) \\iff$\n",
    "TO COMPLETE"
   ]
  },
  {
   "cell_type": "markdown",
   "id": "domestic-holder",
   "metadata": {},
   "source": [
    "#### 2d) Equal to the minimum of two variables\n",
    "\n",
    "$a = min(b, c) \\iff $\n",
    "\n",
    "TO COMPLETE"
   ]
  },
  {
   "cell_type": "markdown",
   "id": "typical-career",
   "metadata": {},
   "source": [
    "#### 2e) The difference between two continuous variables must be greater than or equal to fixed parameter $d$\n",
    "\n",
    "$|a - b| \\geq d \\iff $\n",
    "\n",
    "TO COMPLETE"
   ]
  },
  {
   "cell_type": "markdown",
   "id": "liquid-collar",
   "metadata": {},
   "source": [
    "## Level 3 - SOS1 Constraints\n",
    "\n",
    "SOS1 constraints are special. They stand for Special Ordered Set constraints. They consider a set of non-negative variables, say $a$, $b$, and $c$, and ensure that at most one of the variables are non-zero."
   ]
  },
  {
   "cell_type": "markdown",
   "id": "infectious-mainland",
   "metadata": {},
   "source": [
    "#### 3a) The difference between two continuous variables must be greater than or equal to fixed parameter $d$\n",
    "\n",
    "$|a - b| \\geq d \\iff $\n",
    "\n",
    "TO COMPLETE"
   ]
  },
  {
   "cell_type": "code",
   "execution_count": null,
   "id": "designing-disease",
   "metadata": {},
   "outputs": [],
   "source": []
  }
 ],
 "metadata": {
  "celltoolbar": "Raw Cell Format",
  "kernelspec": {
   "display_name": "Python 3",
   "language": "python",
   "name": "python3"
  },
  "language_info": {
   "codemirror_mode": {
    "name": "ipython",
    "version": 3
   },
   "file_extension": ".py",
   "mimetype": "text/x-python",
   "name": "python",
   "nbconvert_exporter": "python",
   "pygments_lexer": "ipython3",
   "version": "3.9.0"
  }
 },
 "nbformat": 4,
 "nbformat_minor": 5
}
