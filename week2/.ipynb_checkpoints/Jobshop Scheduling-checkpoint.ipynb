{
 "cells": [
  {
   "cell_type": "markdown",
   "id": "official-hands",
   "metadata": {},
   "source": [
    "# Job Shop Scheduling Problem"
   ]
  },
  {
   "cell_type": "markdown",
   "id": "spectacular-description",
   "metadata": {},
   "source": [
    "### Sets\n",
    "\n",
    "|  index   |  Set   |  Description | \n",
    "|:---------|:--------|:--------------|\n",
    "| $m$ | $M$ | Set of nodes  |\n",
    "| $j$ |  $J$   | Set of arcs  |\n",
    "| $i$ | $O_j$ | Set of operations in job $j \\in J$|\n",
    "\n",
    "\n",
    "### Parameters\n",
    "\n",
    "|  Parameter |  Description | \n",
    "|:---------|:--------|\n",
    "| $d_{i,j}$ | Duration of operation $(i,j) \\in O$ |\n",
    "| $m_{i,j}$ | Machine required by operation $(i,j) \\in O$|\n",
    "\n",
    "\n",
    "## Discrete Time Model\n",
    "\n",
    "Let $T$ be an upperbound on the relevant time-horizon\n",
    "\n",
    "|  Variable | Type | Description | \n",
    "|:---------|:--------| :----- |\n",
    "| $x_{i,j,t}$ | Binary | 1 if operation $(i,j) \\in O$ starts at time $t \\in T $|\n",
    "| $z$ | continuous | Makespan  |\n",
    "\n",
    "$$\n",
    "\\begin{align}\n",
    "\\text{minimise} \\ z && & \\quad (1a)\\\\\n",
    "s.t. \\ & \\sum_{t \\in T}t\\cdot x_{i,j,t} + d_{i,j{ \\leq \\sum_{t \\in T}t\\cdot x_{i,j,t} \\quad && \\forall (i, j) \\in A & \\quad (1b) \\\\\n",
    "& \\sum_{i \\in V: (i,j) \\in A} f_{i, j} - \\sum_{k \\in V: (j, k) \\in A} f_{j,k} = 0 \\quad  && \\forall j \\in V \\setminus \\{s, t\\} & \\quad (1c) \\label{m2-c2}\n",
    "\\end{align}\n",
    "$$\n",
    "\n",
    "\n",
    "## Continuous Time Model\n",
    "\n",
    "\n"
   ]
  }
 ],
 "metadata": {
  "kernelspec": {
   "display_name": "Python 3",
   "language": "python",
   "name": "python3"
  },
  "language_info": {
   "codemirror_mode": {
    "name": "ipython",
    "version": 3
   },
   "file_extension": ".py",
   "mimetype": "text/x-python",
   "name": "python",
   "nbconvert_exporter": "python",
   "pygments_lexer": "ipython3",
   "version": "3.9.0"
  }
 },
 "nbformat": 4,
 "nbformat_minor": 5
}
